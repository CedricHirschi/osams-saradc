{
 "cells": [
  {
   "cell_type": "code",
   "execution_count": null,
   "id": "7098f23d",
   "metadata": {},
   "outputs": [],
   "source": [
    "import numpy as np\n",
    "import matplotlib.pyplot as plt\n",
    "import scienceplots\n",
    "\n",
    "from common import NGSpiceRaw, FIG_WIDTH, figure_setup, figure_save\n",
    "\n",
    "%matplotlib widget\n",
    "\n",
    "figure_setup()"
   ]
  },
  {
   "cell_type": "code",
   "execution_count": null,
   "id": "8a669327",
   "metadata": {},
   "outputs": [],
   "source": [
    "data = NGSpiceRaw('../xschem/simulation/adc_tb.raw', live=False)"
   ]
  },
  {
   "cell_type": "code",
   "execution_count": null,
   "id": "0a6d6f09",
   "metadata": {},
   "outputs": [],
   "source": [
    "data.names"
   ]
  },
  {
   "cell_type": "code",
   "execution_count": null,
   "id": "21f09387",
   "metadata": {},
   "outputs": [],
   "source": [
    "# Nodes with 'x1.x2' pattern\n",
    "x1_x2_nodes = [name for name in data.names if 'x1.x2' in name]\n",
    "\n",
    "x1_x2_nodes"
   ]
  },
  {
   "cell_type": "code",
   "execution_count": null,
   "id": "da437f3a",
   "metadata": {},
   "outputs": [],
   "source": [
    "times = data['time']\n",
    "comp_n = data['v(x1.x2.n)']\n",
    "comp_p = data['v(x1.x2.p)']\n",
    "comp_s = data['v(x1.x2.s)']\n",
    "comp_1 = data['v(x1.comp_1)']\n",
    "comp_2 = data['v(x1.comp_2)']"
   ]
  },
  {
   "cell_type": "code",
   "execution_count": null,
   "id": "f7f3ab4f",
   "metadata": {},
   "outputs": [],
   "source": [
    "t_min = 1.755e-6\n",
    "t_max = 1.775e-6\n",
    "\n",
    "interval = (times >= t_min) & (times <= t_max)\n",
    "\n",
    "times_int = times[interval]\n",
    "comp_n_int = comp_n[interval]\n",
    "comp_p_int = comp_p[interval]\n",
    "comp_s_int = comp_s[interval]\n",
    "comp_1_int = comp_1[interval]\n",
    "comp_2_int = comp_2[interval]\n",
    "\n",
    "fig, (ax1, ax2) = plt.subplots(2, 1, figsize=(FIG_WIDTH, FIG_WIDTH * 0.5), sharex=True)\n",
    "ax1.plot(times_int * 1e6, comp_n_int, label='Negative Integration N.', color='blue')\n",
    "ax1.plot(times_int * 1e6, comp_p_int, label='Positive Integration N.', color='red')\n",
    "ax1.plot(times_int * 1e6, comp_s_int, label='Virtual Ground', color='green')\n",
    "ax1.legend()\n",
    "ax1.set_ylabel('Voltage [V]')\n",
    "ax2.plot(times_int * 1e6, comp_1_int, label='Positive Output', color='green')\n",
    "ax2.plot(times_int * 1e6, comp_2_int, label='Negative Output', color='orange')\n",
    "ax2.legend()\n",
    "ax2.set_xlabel('Time [$\\\\mu s$]')\n",
    "ax2.set_ylabel('Voltage [V]')\n",
    "plt.tight_layout()\n",
    "plt.show()\n",
    "\n",
    "figure_save(fig, 'comp_alternative')"
   ]
  },
  {
   "cell_type": "code",
   "execution_count": null,
   "id": "2306ea4e",
   "metadata": {},
   "outputs": [],
   "source": [
    "plt.figure(figsize=(FIG_WIDTH, FIG_WIDTH * 0.5))\n",
    "plt.plot(times, comp_1, label='comp_1', color='green')\n",
    "plt.plot(times, comp_2, label='comp_2', color='orange')\n",
    "plt.legend()\n",
    "plt.show()"
   ]
  }
 ],
 "metadata": {
  "kernelspec": {
   "display_name": "wulpus_env",
   "language": "python",
   "name": "python3"
  },
  "language_info": {
   "codemirror_mode": {
    "name": "ipython",
    "version": 3
   },
   "file_extension": ".py",
   "mimetype": "text/x-python",
   "name": "python",
   "nbconvert_exporter": "python",
   "pygments_lexer": "ipython3",
   "version": "3.9.20"
  }
 },
 "nbformat": 4,
 "nbformat_minor": 5
}

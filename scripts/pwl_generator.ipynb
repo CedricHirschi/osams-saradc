{
 "cells": [
  {
   "cell_type": "code",
   "execution_count": null,
   "id": "39d29c19",
   "metadata": {},
   "outputs": [],
   "source": [
    "import numpy as np\n",
    "import matplotlib.pyplot as plt"
   ]
  },
  {
   "cell_type": "code",
   "execution_count": null,
   "id": "4b8b29bd",
   "metadata": {},
   "outputs": [],
   "source": [
    "vdd = 1.5\n",
    "vss = 0.0\n",
    "vmargin = 0.2\n",
    "\n",
    "vcm = (vdd + vss) / 2\n",
    "vamp = (vdd - vss) / 2 - vmargin\n",
    "vmin = round(vcm - vamp, 3)\n",
    "vmax = round(vcm + vamp, 3)\n",
    "\n",
    "plt.figure()\n",
    "plt.plot([0, 1], [vmin, vmin], 'k--', label='Vmin')\n",
    "plt.plot([0, 1], [vmax, vmax], 'k--', label='Vmax')\n",
    "plt.plot([0, 1], [vcm, vcm], 'k-', label='Vcm')\n",
    "plt.fill_between([0, 1], vmin, vmax, color='lightgray', alpha=0.5, label='Valid Range')\n",
    "plt.plot(np.linspace(0, 1, 100), np.sin(np.linspace(0, 1, 100) * 4 * np.pi) * vamp + vcm, label='Signal')\n",
    "plt.ylim(vss, vdd)\n",
    "plt.xlim(0, 1)\n",
    "plt.yticks(np.arange(vss, vdd + 0.1, 0.1))\n",
    "plt.xticks([])\n",
    "plt.grid()\n",
    "plt.title('Voltage Levels (Single-Ended)')\n",
    "plt.ylabel('Voltage [V]')\n",
    "# plt.legend()\n",
    "plt.show()"
   ]
  },
  {
   "cell_type": "code",
   "execution_count": null,
   "id": "a89a92b7",
   "metadata": {},
   "outputs": [],
   "source": [
    "vcm_diff = 0\n",
    "vamp_diff = vamp * 2\n",
    "vmin_diff = round(vcm_diff - vamp_diff, 3)\n",
    "vmax_diff = round(vcm_diff + vamp_diff, 3)\n",
    "print(vmin_diff, vmax_diff)\n",
    "\n",
    "lsb = (vmax_diff - vmin_diff) / 2**8\n",
    "print(lsb)\n",
    "\n",
    "\n",
    "\n",
    "plt.figure()\n",
    "plt.plot([0, 1], [vmin_diff, vmin_diff], 'k--', label='Vmin')\n",
    "plt.plot([0, 1], [vmax_diff, vmax_diff], 'k--', label='Vmax')\n",
    "plt.plot([0, 1], [vcm_diff, vcm_diff], 'k-', label='Vcm')\n",
    "plt.fill_between([0, 1], vmin_diff, vmax_diff, color='lightgray', alpha=0.5, label='Valid Range')\n",
    "plt.plot(np.linspace(0, 1, 100), np.sin(np.linspace(0, 1, 100) * 4 * np.pi) * vamp_diff + vcm_diff, label='Signal')\n",
    "plt.ylim(vss - vdd, vdd - vss)\n",
    "plt.xlim(0, 1)\n",
    "plt.yticks(np.arange(vss - vdd, vdd - vss + 0.1, 0.1))\n",
    "plt.xticks([])\n",
    "plt.grid()\n",
    "plt.title('Voltage Levels (Differential)')\n",
    "plt.ylabel('Voltage [V]')\n",
    "# plt.legend()\n",
    "plt.show()"
   ]
  },
  {
   "cell_type": "code",
   "execution_count": null,
   "id": "09f435f6",
   "metadata": {},
   "outputs": [],
   "source": [
    "resolution = 8\n",
    "start_code = 8\n",
    "end_code = 255\n",
    "step_code = 15\n",
    "\n",
    "max_code = 2**resolution - 1\n",
    "print(max_code + 1)\n",
    "steps = np.arange(start_code, end_code + 1, step_code)\n",
    "print(steps)\n",
    "vneg_steps = (vmax * (max_code - steps) + vmin * steps) / max_code\n",
    "vpos_steps = (vmax * steps + vmin * (max_code - steps)) / max_code\n",
    "vdiff_steps = vpos_steps - vneg_steps\n",
    "\n",
    "plt.figure()\n",
    "plt.plot(steps, vneg_steps, label='Negative Steps')\n",
    "plt.plot(steps, vpos_steps, label='Positive Steps')\n",
    "plt.plot(steps, vdiff_steps, label='Difference Steps')\n",
    "plt.xlabel('Steps')\n",
    "plt.ylabel('Voltage')\n",
    "plt.title('PWL Voltage Steps')\n",
    "plt.grid()\n",
    "plt.legend()\n",
    "plt.show()"
   ]
  },
  {
   "cell_type": "code",
   "execution_count": null,
   "id": "83c8e747",
   "metadata": {},
   "outputs": [],
   "source": [
    "print(vpos_steps)\n",
    "print(vneg_steps)"
   ]
  },
  {
   "cell_type": "code",
   "execution_count": null,
   "id": "1579569a",
   "metadata": {},
   "outputs": [],
   "source": [
    "test_initial_time = 8\n",
    "test_interval_time = 9\n",
    "\n",
    "\n",
    "def generate_pwl(t_init: int, t_interval: int, voltages: np.ndarray) -> str:\n",
    "    times = np.arange(t_init, t_init + len(voltages) * t_interval, t_interval)\n",
    "    times = np.repeat(times, 2)\n",
    "    times = np.insert(times, 0, 0)\n",
    "    times = times[:-1]\n",
    "    print(f\"t_max: {times[-1]}\")\n",
    "\n",
    "    voltages = np.repeat(voltages, 2)\n",
    "\n",
    "    result = \"pwl(\"\n",
    "    for t, v in zip(times, voltages):\n",
    "        if t != 0:\n",
    "            result += f\"{{{t:d}/f}} {v:.4f} \"\n",
    "        else:\n",
    "            result += f\"0 {v:.4f} \"\n",
    "\n",
    "    return result.strip() + \")\"\n",
    "\n",
    "pwl_pos = generate_pwl(test_initial_time, test_interval_time, vpos_steps)\n",
    "pwl_neg = generate_pwl(test_initial_time, test_interval_time, vneg_steps)\n",
    "\n",
    "print(pwl_pos)\n",
    "print(pwl_neg)"
   ]
  },
  {
   "cell_type": "code",
   "execution_count": null,
   "id": "0b244156",
   "metadata": {},
   "outputs": [],
   "source": []
  }
 ],
 "metadata": {
  "kernelspec": {
   "display_name": "Python 3",
   "language": "python",
   "name": "python3"
  },
  "language_info": {
   "codemirror_mode": {
    "name": "ipython",
    "version": 3
   },
   "file_extension": ".py",
   "mimetype": "text/x-python",
   "name": "python",
   "nbconvert_exporter": "python",
   "pygments_lexer": "ipython3",
   "version": "3.12.3"
  }
 },
 "nbformat": 4,
 "nbformat_minor": 5
}

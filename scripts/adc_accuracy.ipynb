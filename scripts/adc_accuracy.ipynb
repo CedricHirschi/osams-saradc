{
 "cells": [
  {
   "cell_type": "code",
   "execution_count": null,
   "id": "df44d2e9",
   "metadata": {},
   "outputs": [],
   "source": [
    "import numpy as np\n",
    "import matplotlib.pyplot as plt\n",
    "import scienceplots\n",
    "\n",
    "from common import FIG_WIDTH, figure_setup, figure_save\n",
    "\n",
    "%matplotlib widget\n",
    "\n",
    "figure_setup()"
   ]
  },
  {
   "cell_type": "code",
   "execution_count": null,
   "id": "c7e74f35",
   "metadata": {},
   "outputs": [],
   "source": [
    "expected = np.arange(0, 256, 15)\n",
    "measured = [\n",
    "    0x00, 0x0D, 0x1C, 0x2B, 0x3B, 0x4A, 0x59, 0x69, 0x78, 0x87, 0x96, 0xA6, 0xB5, 0xC4, 0xD4, 0xE3, 0xF2, 0xFF\n",
    "]"
   ]
  },
  {
   "cell_type": "code",
   "execution_count": null,
   "id": "4ad69a34",
   "metadata": {},
   "outputs": [],
   "source": [
    "expected1 = np.arange(8, 256, 15)\n",
    "measured1 = [\n",
    "    0x06, 0x15, 0x24, 0x34, 0x43, 0x52, 0x61, 0x71, 0x80, 0x8F, 0x9F, 0xAE, 0xBD, 0xCC, 0xDC, 0xEB, 0xFA\n",
    "]"
   ]
  },
  {
   "cell_type": "code",
   "execution_count": null,
   "id": "3c547b50",
   "metadata": {},
   "outputs": [],
   "source": [
    "# Add both expected and expected1 together\n",
    "expected_combined = np.concatenate((expected, expected1))\n",
    "measured_combined = np.concatenate((measured, measured1))\n",
    "\n",
    "# Sort by expected\n",
    "sort_indices = np.argsort(expected_combined)\n",
    "expected_combined = expected_combined[sort_indices]\n",
    "measured_combined = measured_combined[sort_indices]"
   ]
  },
  {
   "cell_type": "code",
   "execution_count": null,
   "id": "42a1f817",
   "metadata": {},
   "outputs": [],
   "source": [
    "expected_np = np.array(expected_combined)\n",
    "measured_np = np.array(measured_combined)\n",
    "errors_np = measured_np - expected_np[:len(measured_np)]\n",
    "\n",
    "voltages = np.linspace(-1.1, 1.1, len(expected_np))\n",
    "\n",
    "fix, (ax1, ax2) = plt.subplots(2, 1, figsize=(FIG_WIDTH, FIG_WIDTH*0.5), sharex=True)\n",
    "ax1.plot(voltages[1:-1], expected_np[1:-1], label='Expected', marker='o', markersize=3, color='C2')\n",
    "ax1.plot(voltages[1:-1], measured_np[1:-1], label='Measured', marker='o', markersize=3)\n",
    "ax1.set_ylabel('Code')\n",
    "ax1.legend()\n",
    "ax2.plot(voltages[1:-1], errors_np[1:-1], label='Measurement Error', marker='o', markersize=3, color='green')\n",
    "ax2.set_ylabel('Code')\n",
    "ax2.set_xlabel('Input Differential Voltage [V]')\n",
    "ax2.legend()\n",
    "plt.tight_layout()\n",
    "plt.show()\n",
    "\n",
    "figure_save(plt.gcf(), 'measurement_error')"
   ]
  },
  {
   "cell_type": "code",
   "execution_count": null,
   "id": "b82e8dd6",
   "metadata": {},
   "outputs": [],
   "source": [
    "# Linear fit of the output\n",
    "error_fit = np.polyfit(voltages[1:-1], errors_np[1:-1], 1)\n",
    "measured_fit = np.polyfit(voltages[1:-1], measured_np[1:-1], 1)\n",
    "\n",
    "fix, (ax1, ax2) = plt.subplots(2, 1, figsize=(10, 5), sharex=True)\n",
    "\n",
    "ax1.plot(voltages[1:-1], voltages[1:-1] * measured_fit[0] + measured_fit[1], label='Measured', color='red', markersize=3)\n",
    "ax1.scatter(voltages[1:-1], measured_np[1:-1], label=f'Fit ({measured_fit[0]:.4f}x + {measured_fit[1]:.4f})', color='black', marker='o', s=10, zorder=5)\n",
    "ax1.set_ylabel('Code')\n",
    "ax1.legend()\n",
    "ax2.plot(voltages[1:-1], (voltages[1:-1] * measured_fit[0] + measured_fit[1]) - measured_np[1:-1], label='Fit Error', marker='o', markersize=3, color='green')\n",
    "ax2.set_ylabel('Code')\n",
    "ax2.set_xlabel('Input Differential Voltage [V]')\n",
    "ax2.legend()\n",
    "plt.tight_layout()\n",
    "plt.show()\n",
    "\n",
    "figure_save(plt.gcf(), 'measurement_fit')"
   ]
  },
  {
   "cell_type": "code",
   "execution_count": null,
   "id": "9e4d9993",
   "metadata": {},
   "outputs": [],
   "source": [
    "N = 8\n",
    "FSR = 1.1 - (-1.1)\n",
    "ideal_lsb = FSR / (2**N - 1)\n",
    "ideal_endpoint_slope = (2**N - 1) / FSR"
   ]
  },
  {
   "cell_type": "code",
   "execution_count": null,
   "id": "2a271f2d",
   "metadata": {},
   "outputs": [],
   "source": [
    "# Endpoint method\n",
    "V1 = voltages[1]\n",
    "C1 = measured_np[1]\n",
    "V2 = voltages[-2]\n",
    "C2 = measured_np[-2]\n",
    "\n",
    "C2 = C2 - C1\n",
    "C1 = 0\n",
    "\n",
    "measured_slope = (C2 - C1) / (V2 - V1)\n",
    "gain_error_fraction = measured_slope / ideal_endpoint_slope - 1\n",
    "\n",
    "print(f\"{gain_error_fraction=:.2%}\")"
   ]
  },
  {
   "cell_type": "code",
   "execution_count": null,
   "id": "8e25214c",
   "metadata": {},
   "outputs": [],
   "source": [
    "gain_error_fit = measured_fit[0] / ideal_endpoint_slope - 1\n",
    "\n",
    "print(f\"{gain_error_fit=:.2%}\")"
   ]
  },
  {
   "cell_type": "code",
   "execution_count": null,
   "id": "5f788a50",
   "metadata": {},
   "outputs": [],
   "source": [
    "dnls = np.diff(measured_np) / np.diff(expected_np) - 1\n",
    "inls = np.diff(voltages * measured_fit[0] + measured_fit[1]) / np.diff(expected_np) - 1\n",
    "\n",
    "dnls, inls"
   ]
  },
  {
   "cell_type": "code",
   "execution_count": null,
   "id": "840d4339",
   "metadata": {},
   "outputs": [],
   "source": [
    "fig, (ax1, ax2) = plt.subplots(2, 1, figsize=(FIG_WIDTH, FIG_WIDTH * 0.5), sharex=True)\n",
    "ax1.plot(voltages[1:-2], dnls[1:-1])\n",
    "ax1.set_ylabel('DNL')\n",
    "ax2.plot(voltages[1:-2], inls[1:-1])\n",
    "ax2.set_ylabel('INL')\n",
    "ax2.set_xlabel('Input Differential Voltage [V]')\n",
    "plt.tight_layout()\n",
    "plt.show()\n",
    "\n",
    "figure_save(plt.gcf(), 'dnl_inl')"
   ]
  },
  {
   "cell_type": "code",
   "execution_count": null,
   "id": "4af4875b",
   "metadata": {},
   "outputs": [],
   "source": [
    "code_fit = np.polyfit(expected_np[1:-1], measured_np[1:-1], 1)\n",
    "\n",
    "print(code_fit)\n",
    "\n",
    "def correct_code(code, n, ge, off):\n",
    "    return np.clip(np.round((code - off) / (1 + ge)), 0, 2**n - 1)\n",
    "\n",
    "corrected_np = correct_code(measured_np, 8, code_fit[0] - 1, code_fit[1])\n",
    "corrections_np = corrected_np - measured_np\n",
    "\n",
    "errors_corrected_np = corrected_np - expected_np\n",
    "\n",
    "fix, (ax1, ax2) = plt.subplots(2, 1, figsize=(FIG_WIDTH, FIG_WIDTH*0.5), sharex=True)\n",
    "# ax1.plot(voltages[1:-1], expected_np[1:-1], label='Expected', marker='o', markersize=3, color='C2')\n",
    "ax1.plot(voltages[1:-1], corrections_np[1:-1], label='Applied Corrections', marker='o', markersize=3)\n",
    "ax1.set_ylabel('Code')\n",
    "ax1.legend()\n",
    "ax2.plot(voltages[1:-1], errors_corrected_np[1:-1], label='Measurement Error (Corrected)', marker='o', markersize=3, color='green')\n",
    "ax2.set_ylabel('Code')\n",
    "ax2.set_xlabel('Input Differential Voltage [V]')\n",
    "ax2.legend()\n",
    "plt.tight_layout()\n",
    "plt.show()\n",
    "\n",
    "figure_save(plt.gcf(), 'corrections')"
   ]
  }
 ],
 "metadata": {
  "kernelspec": {
   "display_name": "Python 3",
   "language": "python",
   "name": "python3"
  },
  "language_info": {
   "codemirror_mode": {
    "name": "ipython",
    "version": 3
   },
   "file_extension": ".py",
   "mimetype": "text/x-python",
   "name": "python",
   "nbconvert_exporter": "python",
   "pygments_lexer": "ipython3",
   "version": "3.12.3"
  }
 },
 "nbformat": 4,
 "nbformat_minor": 5
}

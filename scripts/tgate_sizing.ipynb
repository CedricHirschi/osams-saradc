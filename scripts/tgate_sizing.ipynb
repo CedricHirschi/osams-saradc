{
 "cells": [
  {
   "cell_type": "code",
   "execution_count": null,
   "id": "5dcd1599",
   "metadata": {},
   "outputs": [],
   "source": [
    "import numpy as np"
   ]
  },
  {
   "cell_type": "code",
   "execution_count": null,
   "id": "41f3609f",
   "metadata": {},
   "outputs": [],
   "source": [
    "C      = 2.7e-12   # F\n",
    "T      = 0.25/80e6 # s (55% of 80 MHz clock period -> in our case, this yields 9.9 ENOB at output)\n",
    "thresh = 2**-8 / 2 # percent (half of 1 LSB (8 bits))\n",
    "Vdd    = 1.5       # V\n",
    "\n",
    "# From https://ihp-open-pdk-docs.readthedocs.io/en/latest/process_specs/02_process_control_params.html\n",
    "Vth_n = 0.52   # V\n",
    "Vth_p = 0.47   # V\n",
    "L     = 130e-9 # m\n",
    "\n",
    "# From https://github.com/IHP-GmbH/IHP-Open-PDK/blob/main/ihp-sg13g2/libs.tech/ngspice/models/sg13g2_moslv_parm.lib\n",
    "mu_n    = 0.045582 # m^2/V*s\n",
    "mu_p    = 0.017232 # m^2/V*s\n",
    "tox_n   = 2.45e-9  # m\n",
    "tox_p   = 2.65e-9  # m\n",
    "epsox_n = 3.9\n",
    "epsox_p = 3.9"
   ]
  },
  {
   "cell_type": "code",
   "execution_count": null,
   "id": "6ea4ac2b",
   "metadata": {},
   "outputs": [],
   "source": [
    "eps_0 = 8.854e-12               # F/m\n",
    "\n",
    "Cox_n = epsox_n * eps_0 / tox_n # F/m^2\n",
    "Cox_p = epsox_p * eps_0 / tox_p # F/m^2\n",
    "print(f\"Cox_n = {Cox_n:.3e} F/m^2\")\n",
    "print(f\"Cox_p = {Cox_p:.3e} F/m^2\")"
   ]
  },
  {
   "cell_type": "code",
   "execution_count": null,
   "id": "31138c89",
   "metadata": {},
   "outputs": [],
   "source": [
    "def find_Req(T, C, epsilon):\n",
    "    # Vo(t) = Vdd * (1 - exp(-t / (C * Req)))\n",
    "    # We want Vo(T) = Vdd * (1 - epsilon) (for simplicity, we just take Vdd)\n",
    "    # => 1 - exp(-T / (C * Req)) = 1 - epsilon\n",
    "    # => exp(-T / (C * Req)) = epsilon\n",
    "    # => -T / (C * Req) = ln(epsilon)\n",
    "    # => Req = -T / (C * ln(epsilon))\n",
    "    return -T / (C * np.log(epsilon))\n",
    "\n",
    "Req = find_Req(T, C, thresh)\n",
    "print(f\"Req = {Req:.2f} Ohm\")"
   ]
  },
  {
   "cell_type": "code",
   "execution_count": null,
   "id": "2c043fc5",
   "metadata": {},
   "outputs": [],
   "source": [
    "def find_WL(Rind, mu, Cox, Vdd, Vth):\n",
    "    # Id,sat = 1/2 * mu * Cox * (Vgs - Vth) ** 2\n",
    "    # Rind approx Vdd / Id,sat\n",
    "    # => Rind = Vdd / (1/2 * mu * Cox * (Vdd - Vth) ** 2)\n",
    "    # => Rind = Vdd * 2 / (mu * Cox * (Vdd - Vth) ** 2)\n",
    "    return 2 * Vdd / (Rind * mu * Cox * (Vdd - Vth) ** 2)\n",
    "\n",
    "WL_n = find_WL(Req, mu_n, Cox_n, Vdd, Vth_n)\n",
    "WL_p = find_WL(Req, mu_p, Cox_p, Vdd, Vth_p)\n",
    "print(f\"W/L_n = {WL_n:.2f}\")\n",
    "print(f\"W/L_p = {WL_p:.2f}\")\n",
    "\n",
    "W_n = WL_n * L\n",
    "W_p = WL_p * L\n",
    "print(f\"W_n = {W_n*1e6:.2f} um\")\n",
    "print(f\"W_p = {W_p*1e6:.2f} um\")"
   ]
  }
 ],
 "metadata": {
  "kernelspec": {
   "display_name": "Python 3",
   "language": "python",
   "name": "python3"
  },
  "language_info": {
   "codemirror_mode": {
    "name": "ipython",
    "version": 3
   },
   "file_extension": ".py",
   "mimetype": "text/x-python",
   "name": "python",
   "nbconvert_exporter": "python",
   "pygments_lexer": "ipython3",
   "version": "3.12.3"
  }
 },
 "nbformat": 4,
 "nbformat_minor": 5
}
